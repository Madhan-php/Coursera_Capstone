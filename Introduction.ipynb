{
 "cells": [
  {
   "cell_type": "markdown",
   "metadata": {},
   "source": [
    "# Introduction\n",
    "Every city has a lot of restaurants, but still there is always scope for new ones. Selecting the best suitable location is the most important factor for a restaurant to flourish. It should be set up in a location that has the target population and has other advantages such as litle or no competion. \n",
    "\n",
    "This solution will be helpful for anyone looking to open an Asian cusine restaurant in the city of Newyok. The objective of the solution is to find a location that suits the below criteria.\n",
    "\n",
    "1. A location that has more number of restaurants as that implies a good demand for restaurants. \n",
    "2. A location that has no or few Asian cusine restaurants, as this will ensure that there is no incumbent player or very little competition."
   ]
  },
  {
   "cell_type": "code",
   "execution_count": null,
   "metadata": {},
   "outputs": [],
   "source": []
  }
 ],
 "metadata": {
  "kernelspec": {
   "display_name": "Python 3",
   "language": "python",
   "name": "python3"
  },
  "language_info": {
   "codemirror_mode": {
    "name": "ipython",
    "version": 3
   },
   "file_extension": ".py",
   "mimetype": "text/x-python",
   "name": "python",
   "nbconvert_exporter": "python",
   "pygments_lexer": "ipython3",
   "version": "3.6.5"
  }
 },
 "nbformat": 4,
 "nbformat_minor": 2
}
